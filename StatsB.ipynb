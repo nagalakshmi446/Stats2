{
 "cells": [
  {
   "cell_type": "markdown",
   "metadata": {},
   "source": [
    "# Problem Statement 1:\n",
    "\n",
    "In each of the following situations, state whether it is a correctly stated hypothesis\n",
    "testing problem and why?\n",
    "1. H0: μ = 25, H1: μ ≠ 25\n",
    "2. H0: σ > 10, H1: σ = 10\n",
    "3. H0: x = 50, H1: x ≠ 50\n",
    "4. H0: p = 0.1, H1: p = 0.5\n",
    "5. H0: s = 30, H1: s > 30"
   ]
  },
  {
   "cell_type": "markdown",
   "metadata": {},
   "source": [
    "yes,because values in both statement are about population and distribution has equal null values ad inequality in null hypothesis\n",
    "\n",
    "No,because null hypothesis has an equality claim andalternate hypothesis has an inequality\n",
    "\n",
    "No,because hypothesis is stated interms of statistics and not sample data\n",
    "\n",
    "No,because values in both hypothesis is different and signs are equal\n",
    "\n",
    "No,hypothesis are about statements not about sample\n",
    "\n"
   ]
  },
  {
   "cell_type": "markdown",
   "metadata": {},
   "source": [
    "# Problem Statement 2:\n",
    "    \n",
    "The college bookstore tells prospective students that the average cost of its\n",
    "textbooks is Rs. 52 with a standard deviation of Rs. 4.50. A group of smart statistics\n",
    "students thinks that the average cost is higher. To test the bookstore’s claim against\n",
    "their alternative, the students will select a random sample of size 100. Assume that\n",
    "the mean from their random sample is Rs. 52.80. Perform a hypothesis test at the\n",
    "5% level of significance and state your decision."
   ]
  },
  {
   "cell_type": "code",
   "execution_count": 3,
   "metadata": {},
   "outputs": [
    {
     "name": "stdout",
     "output_type": "stream",
     "text": [
      "Z score is :1.7777777777777715\n",
      "Critical region is -1.9599639845400545 ,1.9599639845400545\n"
     ]
    }
   ],
   "source": [
    "from scipy.stats import norm\n",
    "import numpy as np\n",
    "import math\n",
    "import scipy.stats as stats\n",
    "from scipy.stats import chi2_contingency\n",
    "\n",
    "p_mean = 52\n",
    "p_std = 4.50\n",
    "n = 100\n",
    "sample_mean = 52.80\n",
    "HT = p_std/n ** 0.5\n",
    "Z = (sample_mean - p_mean)/HT\n",
    "print(f\"Z score is :{Z}\")\n",
    "alpha = 0.05 #test significance\n",
    "print(f\"Critical region is {norm.ppf(alpha/2)} ,{-norm.ppf(alpha/2)}\")"
   ]
  },
  {
   "cell_type": "markdown",
   "metadata": {},
   "source": [
    "we can conclude that we can accept null hypothesis since z_score < critical region"
   ]
  },
  {
   "cell_type": "markdown",
   "metadata": {},
   "source": [
    "# Problem Statement 3:\n",
    "    \n",
    "A certain chemical pollutant in the Genesee River has been constant for several\n",
    "years with mean μ = 34 ppm (parts per million) and standard deviation σ = 8 ppm. A\n",
    "group of factory representatives whose companies discharge liquids into the river is\n",
    "now claiming that they have lowered the average with improved filtration devices. A\n",
    "group of environmentalists will test to see if this is true at the 1% level of\n",
    "significance. Assume \\ that their sample of size 50 gives a mean of 32.5 ppm.\n",
    "Perform a hypothesis test at the 1% level of significance and state your decision."
   ]
  },
  {
   "cell_type": "code",
   "execution_count": 4,
   "metadata": {},
   "outputs": [
    {
     "name": "stdout",
     "output_type": "stream",
     "text": [
      "Z score is :-1.3258252147247767\n",
      "critical region is-2.575829303548901,2.575829303548901\n"
     ]
    }
   ],
   "source": [
    "from scipy.stats import norm\n",
    "mean_mu  = 34\n",
    "std_dev  = 8\n",
    "n = 50\n",
    "sample_mean = 32.5\n",
    "\n",
    "SE = std_dev/n **0.5 #standard error\n",
    "Z = (sample_mean - mean_mu)/SE\n",
    "print(f\"Z score is :{Z}\")\n",
    "alpha = 0.01\n",
    "print(f\"critical region is{norm.ppf(alpha/2)},{-norm.ppf(alpha/2)}\")\n"
   ]
  },
  {
   "cell_type": "markdown",
   "metadata": {},
   "source": [
    "From above we can conclude that we can accept null hypothesis since critical region < z-score"
   ]
  },
  {
   "cell_type": "markdown",
   "metadata": {},
   "source": [
    "# Problem Statement 4:\n",
    "    \n",
    "Based on population figures and other general information on the U.S. population,\n",
    "suppose it has been estimated that, on average, a family of four in the U.S. spends\n",
    "about $1135 annually on dental expenditures. Suppose further that a regional dental\n",
    "association wants to test to determine if this figure is accurate for their area of\n",
    "country. To test this, 22 families of 4 are randomly selected from the population in\n",
    "that area of the country and a log is kept of the family’s dental expenditure for one\n",
    "year. The resulting data are given below. Assuming, that dental expenditure is\n",
    "normally distributed in the population, use the data and an alpha of 0.5 to test the\n",
    "dental association’s hypothesis.\n",
    "\n",
    "1008, 812, 1117, 1323, 1308, 1415, 831, 1021, 1287, 851, 930, 730, 699,\n",
    "872, 913, 944, 954, 987, 1695, 995, 1003, 994"
   ]
  },
  {
   "cell_type": "code",
   "execution_count": 11,
   "metadata": {},
   "outputs": [
    {
     "data": {
      "application/javascript": [
       "\n",
       "        if (window._pyforest_update_imports_cell) { window._pyforest_update_imports_cell('from pathlib import Path\\nfrom sklearn.ensemble import GradientBoostingRegressor\\nfrom sklearn.preprocessing import OneHotEncoder\\nfrom sklearn.ensemble import RandomForestRegressor\\nimport numpy as np\\nfrom sklearn.ensemble import RandomForestClassifier\\nfrom sklearn.ensemble import GradientBoostingClassifier'); }\n",
       "    "
      ],
      "text/plain": [
       "<IPython.core.display.Javascript object>"
      ]
     },
     "metadata": {},
     "output_type": "display_data"
    },
    {
     "data": {
      "application/javascript": [
       "\n",
       "        if (window._pyforest_update_imports_cell) { window._pyforest_update_imports_cell('from pathlib import Path\\nfrom sklearn.ensemble import GradientBoostingRegressor\\nfrom sklearn.preprocessing import OneHotEncoder\\nfrom sklearn.ensemble import RandomForestRegressor\\nimport numpy as np\\nfrom sklearn.ensemble import RandomForestClassifier\\nfrom sklearn.ensemble import GradientBoostingClassifier'); }\n",
       "    "
      ],
      "text/plain": [
       "<IPython.core.display.Javascript object>"
      ]
     },
     "metadata": {},
     "output_type": "display_data"
    },
    {
     "name": "stdout",
     "output_type": "stream",
     "text": [
      "t score is -2.070747228595759\n",
      "critical region is -0.6863519891164291 0.6863519891164291\n"
     ]
    }
   ],
   "source": [
    "import scipy.stats as stats\n",
    "p_mean = 1135 # avg expenditure on dental\n",
    "data = [1008, 812, 1117, 1323, 1308, 1415, 831, 1021, 1287, 851, 930, 730, 699, 872, 913, 944, 954, 987, 1695, 995, 1003, 994]\n",
    "n = 22\n",
    "sample_std = np.std(data)\n",
    "sample_mean = np.sum(data,axis=0)/len(data)\n",
    "SE = sample_std/n ** 0.5\n",
    "alpha = 0.5\n",
    "test_1 = (sample_mean - p_mean)/SE\n",
    "print(f\"t score is {test_1}\")\n",
    "print(f\"critical region is {stats.t.ppf((alpha/2),df=21)} {stats.t.ppf(1-(alpha/2),df=21)}\")"
   ]
  },
  {
   "cell_type": "markdown",
   "metadata": {},
   "source": [
    "we reject null hypothesis alpha = 0.5 since it lies within critical region"
   ]
  },
  {
   "cell_type": "markdown",
   "metadata": {},
   "source": [
    "# Problem Statement 5\n",
    "\n",
    "In a report prepared by the Economic Research Department of a major bank the\n",
    "Department manager maintains that the average annual family income on Metropolis\n",
    "is $48,432. What do you conclude about the validity of the report if a random sample\n",
    "of 400 families shows and average income of $48,574 with a standard deviation of\n",
    "2000?"
   ]
  },
  {
   "cell_type": "code",
   "execution_count": 18,
   "metadata": {},
   "outputs": [
    {
     "name": "stdout",
     "output_type": "stream",
     "text": [
      "Z score is 1.42\n",
      "Critical region is -1.9599639845400545 1.9599639845400545\n"
     ]
    }
   ],
   "source": [
    "p_mean = 48432\n",
    "n = 400\n",
    "sample_mean = 48574\n",
    "p_std = 2000\n",
    "SE = p_std/n ** 0.5\n",
    "Z = (sample_mean-p_mean)/SE\n",
    "alpha = 0.05\n",
    "print(f\"Z score is {Z}\")\n",
    "print(f\"Critical region is {norm.ppf(alpha/2)} {-norm.ppf(alpha/2)}\")\n",
    "      "
   ]
  },
  {
   "cell_type": "markdown",
   "metadata": {},
   "source": [
    "we accept null hypothesis at alpha = 0.05 since z_score<critical_region"
   ]
  },
  {
   "cell_type": "markdown",
   "metadata": {},
   "source": [
    "# Problem Statement 6"
   ]
  },
  {
   "cell_type": "markdown",
   "metadata": {},
   "source": [
    "Suppose that in past years the average price per square foot for warehouses in the\n",
    "United States has been $32.28. A national real estate investor wants to determine\n",
    "whether that figure has changed now. The investor hires a researcher who randomly\n",
    "samples 19 warehouses that are for sale across the United States and finds that the\n",
    "mean price per square foot is $31.67, with a standard deviation of $1.29. assume\n",
    "that the prices of warehouse footage are normally distributed in population. If the\n",
    "researcher uses a 5% level of significance, what statistical conclusion can be\n",
    "reached? What are the hypotheses?                                       "
   ]
  },
  {
   "cell_type": "code",
   "execution_count": 11,
   "metadata": {},
   "outputs": [
    {
     "name": "stdout",
     "output_type": "stream",
     "text": [
      "t score is -2.1\n",
      "Critical region is -2.1 2.1\n"
     ]
    }
   ],
   "source": [
    "from scipy.stats import norm\n",
    "import scipy.stats as stats\n",
    "p_mean = 32.28\n",
    "n = 19\n",
    "sample_mean = 31.67\n",
    "stdev = 1.29\n",
    "alpha = 0.05\n",
    "SE = stdev/(n** 0.5)\n",
    "t = (sample_mean-p_mean)/SE\n",
    "print(f\"t score is {round((t),1)}\")\n",
    "print(f\"Critical region is {round(stats.t.ppf((alpha/2),df=18),1)} {-round(stats.t.ppf((alpha/2),df=18),1)}\")\n"
   ]
  },
  {
   "cell_type": "markdown",
   "metadata": {},
   "source": [
    "we can reject null hypothesis since it lies in critical region"
   ]
  },
  {
   "cell_type": "markdown",
   "metadata": {},
   "source": [
    "# Problem Statement 7"
   ]
  },
  {
   "cell_type": "code",
   "execution_count": 17,
   "metadata": {},
   "outputs": [
    {
     "name": "stdout",
     "output_type": "stream",
     "text": [
      "-4.427188724235731\n",
      "-0.6324555320336759\n",
      "beta at mu1 = 52 is : 0.2643\n"
     ]
    }
   ],
   "source": [
    "#calculate beta at mu1 = 52\n",
    "import math\n",
    "n1 = 10\n",
    "sig = 2.5\n",
    "mu1 = 52\n",
    "p11 = (48.5 - mu1)/(sig/math.sqrt(n1))\n",
    "print(p11)\n",
    "p12 = (51.5 - mu1)/(sig/math.sqrt(n1))\n",
    "print(p12)\n",
    "#as p12 > p11 z score lies in between p12<z<p11 ,find probabilty at these z score\n",
    "p11 = 0\n",
    "p12 = 0.2643\n",
    "beta11 = p12 - p11\n",
    "print(f\"beta at mu1 = 52 is : {beta11}\")\n"
   ]
  },
  {
   "cell_type": "code",
   "execution_count": 5,
   "metadata": {},
   "outputs": [
    {
     "name": "stdout",
     "output_type": "stream",
     "text": [
      "-2.5298221281347035\n",
      "1.2649110640673518\n",
      "beta at mu2 is : 0.1095\n"
     ]
    }
   ],
   "source": [
    "#calculate beta at mu1 = 50.5\n",
    "import math \n",
    "n1 = 10\n",
    "sig = 2.5\n",
    "mu2 = 50.5\n",
    "p13 = (48.5 - mu2)/(sig/math.sqrt(n1))\n",
    "print(p13)\n",
    "p14 = (51.5 - mu2)/(sig/math.sqrt(n1))\n",
    "print(p14)\n",
    "#as p12 > p11 z score lies in between p12<z<p11 ,find probabilty at these z score\n",
    "p13 = 0.0057\n",
    "p14 = 0.8962\n",
    "beta12 = p13 + (1-p14)\n",
    "print(f\"beta at mu2 is : {beta12}\")\n"
   ]
  },
  {
   "cell_type": "code",
   "execution_count": 9,
   "metadata": {},
   "outputs": [
    {
     "name": "stdout",
     "output_type": "stream",
     "text": [
      "-5.059644256269407\n",
      "-1.2649110640673518\n",
      "Beta at Mu2 = 52 is : 0.1038\n"
     ]
    }
   ],
   "source": [
    "# Calculate Beta at Mu1 = 52\n",
    "n2 = 10\n",
    "Sig =2.5\n",
    "Mu1 =52\n",
    "\n",
    "p21 = (48.0 - Mu1)/(Sig/math.sqrt(n2))\n",
    "print(p21)\n",
    "p22 = (51.0 - Mu1)/(Sig/math.sqrt(n2))\n",
    "print(p22)\n",
    "\n",
    "# As p22 > p21, so our z score lies in between these two p22 < z < p21.\n",
    "# Find probability at these z score\n",
    "P21 = 0\n",
    "P22 = 0.1038\n",
    "# now Beta = p22 - p21\n",
    "Beta21 = P22 - P21\n",
    "print(f\"Beta at Mu2 = 52 is : {Beta21}\")"
   ]
  },
  {
   "cell_type": "code",
   "execution_count": 10,
   "metadata": {},
   "outputs": [
    {
     "name": "stdout",
     "output_type": "stream",
     "text": [
      "-3.1622776601683795\n",
      "0.6324555320336759\n",
      "Beta at Mu2 = 50.5 is : 0.2651\n"
     ]
    }
   ],
   "source": [
    "# Calculate Beta at Mu2 = 50.5\n",
    "n2 = 10\n",
    "Sig =2.5\n",
    "Mu2 =50.5\n",
    "\n",
    "p23 = (48 - Mu2)/(Sig/math.sqrt(n2))\n",
    "print(p23)\n",
    "p24 = (51 - Mu2)/(Sig/math.sqrt(n2))\n",
    "print(p24)\n",
    "\n",
    "# so our z score lies in between these two p13 < z < p14.\n",
    "# Find probability at these z score\n",
    "P23 = 0.0008\n",
    "P24 = 0.7357\n",
    "# now Beta = p13 +(1 - p14)\n",
    "Beta22 = P23 +(1- P24)\n",
    "print(f\"Beta at Mu2 = 50.5 is : {Beta22}\")"
   ]
  },
  {
   "cell_type": "markdown",
   "metadata": {},
   "source": [
    "3)48.81<x<51.9"
   ]
  },
  {
   "cell_type": "code",
   "execution_count": 11,
   "metadata": {},
   "outputs": [
    {
     "name": "stdout",
     "output_type": "stream",
     "text": [
      "-5.1039999999999965\n",
      "-0.16000000000000228\n",
      "Beta at Mu2 = 52 is : 0.4364\n"
     ]
    }
   ],
   "source": [
    "# Calculate Beta at Mu1 = 52\n",
    "n3 = 16\n",
    "Sig =2.5\n",
    "Mu1 =52\n",
    "\n",
    "p31 = (48.81 - Mu1)/(Sig/math.sqrt(n3))\n",
    "print(p31)\n",
    "p32 = (51.9 - Mu1)/(Sig/math.sqrt(n3))\n",
    "print(p32)\n",
    "\n",
    "# so our z score lies in between these two p31 < z < p32.\n",
    "# Find probability at these z score\n",
    "P31 = 0.4364\n",
    "P32 = 0\n",
    "# now Beta = p31 - p32\n",
    "Beta31 = P31 - P32\n",
    "print(f\"Beta at Mu2 = 52 is : {Beta31}\")"
   ]
  },
  {
   "cell_type": "code",
   "execution_count": 12,
   "metadata": {},
   "outputs": [
    {
     "name": "stdout",
     "output_type": "stream",
     "text": [
      "-2.703999999999996\n",
      "2.2399999999999975\n",
      "Beta at Mu2 = 50.5 is : 0.015700000000000047\n"
     ]
    }
   ],
   "source": [
    "# Calculate Beta at Mu2 = 50.5\n",
    "n3 = 16\n",
    "Sig =2.5\n",
    "Mu2 =50.5\n",
    "\n",
    "p33 = (48.81 - Mu2)/(Sig/math.sqrt(n3))\n",
    "print(p33)\n",
    "p34 = (51.9 - Mu2)/(Sig/math.sqrt(n3))\n",
    "print(p34)\n",
    "\n",
    "# so our z score lies in between these two p33 < z < 1- p34.\n",
    "# Find probability at these z score\n",
    "P33 = 0.0032\n",
    "P34 = 0.9875\n",
    "# now Beta = P33 + 1- P34\n",
    "Beta32 = P33 +1 - P34\n",
    "print(f\"Beta at Mu2 = 50.5 is : {Beta32}\")"
   ]
  },
  {
   "cell_type": "markdown",
   "metadata": {},
   "source": [
    "iv) 48.42 <x < 51.58"
   ]
  },
  {
   "cell_type": "code",
   "execution_count": 13,
   "metadata": {},
   "outputs": [
    {
     "name": "stdout",
     "output_type": "stream",
     "text": [
      "-5.727999999999997\n",
      "-0.6720000000000027\n",
      "Beta at Mu2 = 52 is : 0.2514\n"
     ]
    }
   ],
   "source": [
    "# Calculate Beta at Mu1 = 52\n",
    "n4 = 16\n",
    "Sig =2.5\n",
    "Mu1 =52\n",
    "\n",
    "p41 = (48.42 - Mu1)/(Sig/math.sqrt(n4))\n",
    "print(p41)\n",
    "p42 = (51.58 - Mu1)/(Sig/math.sqrt(n4))\n",
    "print(p42)\n",
    "\n",
    "# As P42> P41, so our z score lies in between these two p42 < z < p41.\n",
    "# Find probability at these z score\n",
    "P41 = 0.0\n",
    "P42 = 0.2514\n",
    "# now Beta = p31 - p32\n",
    "Beta41 = P42 - P41\n",
    "print(f\"Beta at Mu2 = 52 is : {Beta41}\")"
   ]
  },
  {
   "cell_type": "code",
   "execution_count": 14,
   "metadata": {},
   "outputs": [
    {
     "name": "stdout",
     "output_type": "stream",
     "text": [
      "-2.703999999999996\n",
      "2.2399999999999975\n",
      "Beta at Mu2 = 50.5 is : 0.015999999999999955\n"
     ]
    }
   ],
   "source": [
    "# Calculate Beta at Mu2 = 50.5\n",
    "n4 = 16\n",
    "Sig =2.5\n",
    "Mu2 =50.5\n",
    "\n",
    "p43 = (48.42 - Mu2)/(Sig/math.sqrt(n4))\n",
    "print(p33)\n",
    "p44 = (51.58 - Mu2)/(Sig/math.sqrt(n4))\n",
    "print(p34)\n",
    "\n",
    "# so our z score lies in between these two p33 < z < 1- p34.\n",
    "# Find probability at these z score\n",
    "P43 = 0.0035\n",
    "P44 = 0.9875\n",
    "# now Beta = P43 + 1- P44\n",
    "Beta42 = P43 +(1 - P44)\n",
    "print(f\"Beta at Mu2 = 50.5 is : {Beta42}\")"
   ]
  },
  {
   "cell_type": "markdown",
   "metadata": {},
   "source": [
    "# Problem Statement 8\n",
    "\n",
    "Find the t-score for a sample size of 16 taken from a population with mean 10 when\n",
    "the sample mean is 12 and the sample standard deviation is 1.5."
   ]
  },
  {
   "cell_type": "code",
   "execution_count": 4,
   "metadata": {},
   "outputs": [
    {
     "data": {
      "text/plain": [
       "5.333333333333333"
      ]
     },
     "execution_count": 4,
     "metadata": {},
     "output_type": "execute_result"
    }
   ],
   "source": [
    "import math\n",
    "n = 16\n",
    "p_mean = 10\n",
    "sample_mean = 12\n",
    "sample_std = 1.5\n",
    "t_score = (sample_mean - p_mean)/(sample_std/math.sqrt(n))\n",
    "t_score"
   ]
  },
  {
   "cell_type": "markdown",
   "metadata": {},
   "source": [
    "# Problem Statement 9\n",
    "Find the t-score below which we can expect 99% of sample means will fall if samples\n",
    "of size 16 are taken from a normally distributed population."
   ]
  },
  {
   "cell_type": "code",
   "execution_count": 7,
   "metadata": {},
   "outputs": [
    {
     "name": "stdout",
     "output_type": "stream",
     "text": [
      "t score is 2.946712883338615\n"
     ]
    }
   ],
   "source": [
    "import scipy.stats as stats\n",
    "n = 16\n",
    "alpha = (1-0.99)/2\n",
    "print(f\"t score is {stats.t.ppf(1-alpha,df = 15)}\")\n"
   ]
  },
  {
   "cell_type": "markdown",
   "metadata": {},
   "source": [
    "# Problem Statment 10\n",
    "If a random sample of size 25 drawn from a normal population gives a mean of 60\n",
    "and a standard deviation of 4, find the range of t-scores where we can expect to find\n",
    "the middle 95% of all sample means. Compute the probability that (−t0.05 <t<t0.10)."
   ]
  },
  {
   "cell_type": "code",
   "execution_count": 11,
   "metadata": {},
   "outputs": [
    {
     "name": "stdout",
     "output_type": "stream",
     "text": [
      "Range is : 61.651118849302414 58.348881150697586\n"
     ]
    }
   ],
   "source": [
    "n = 25\n",
    "p_mean = 60\n",
    "std = 4\n",
    "alpha = (1-0.95)/2\n",
    "t_score = stats.t.ppf(1-alpha,df = 24)\n",
    "print(f\"Range is : {p_mean+t_score*(std/(n**0.5))} {p_mean-t_score*(std/(n**0.5))}\")\n"
   ]
  },
  {
   "cell_type": "code",
   "execution_count": 12,
   "metadata": {},
   "outputs": [
    {
     "name": "stdout",
     "output_type": "stream",
     "text": [
      "Probabaility is 0.05914441613731247\n"
     ]
    }
   ],
   "source": [
    "p = stats.t.cdf(0.1,df = 24)-stats.t.cdf(-0.05,df=24)\n",
    "print(f\"Probabaility is {p}\")\n"
   ]
  },
  {
   "cell_type": "markdown",
   "metadata": {},
   "source": [
    "# Problem Statement 11\n",
    "\n",
    "Two-tailed test for difference between two population means\n",
    "Is there evidence to conclude that the number of people travelling from Bangalore to\n",
    "Chennai is different from the number of people travelling from Bangalore to Hosur in\n",
    "a week, given the following:\n",
    "\n",
    "Population 1: Bangalore to Chennai n1 = 1200\n",
    "\n",
    "x1 = 452\n",
    "\n",
    "s1 = 212\n",
    "\n",
    "Population 2: Bangalore to Hosur n2 = 800\n",
    "\n",
    "x2 = 523\n",
    "\n",
    "s2 = 185"
   ]
  },
  {
   "cell_type": "code",
   "execution_count": 3,
   "metadata": {},
   "outputs": [
    {
     "name": "stdout",
     "output_type": "stream",
     "text": [
      "Z score is -7.926428526759299\n",
      "critical region is -1.9599639845400545 1.9599639845400545\n"
     ]
    }
   ],
   "source": [
    "from scipy.stats import norm\n",
    "n1 = 1200\n",
    "x1 = 452\n",
    "s1 = 212\n",
    "\n",
    "n2 =800\n",
    "x2 = 523\n",
    "s2 = 185\n",
    "\n",
    "s_1 = s1**2\n",
    "s_2 = s2**2\n",
    "alpha = 0.05\n",
    "SE = ((s_1/n1)+(s_2/n2))**0.5\n",
    "z_score = (x1-x2)/SE\n",
    "print(f\"Z score is {z_score}\")\n",
    "print(f\"critical region is {norm.ppf(alpha/2)} {-norm.ppf(alpha/2)}\")"
   ]
  },
  {
   "cell_type": "markdown",
   "metadata": {},
   "source": [
    "we reject null hypothesis since it lies within critical region at alpha = 5%.so  number of people travelling from Bangalore to\n",
    "Chennai is different from the number of people travelling from Bangalore to Hosur."
   ]
  },
  {
   "cell_type": "markdown",
   "metadata": {},
   "source": [
    "# Problem statement 12\n",
    "\n",
    "Is there evidence to conclude that the number of people preferring Duracell battery is\n",
    "different from the number of people preferring Energizer battery, given the following:\n",
    "    \n",
    "Population 1: Duracell\n",
    "n1 = 100\n",
    "\n",
    "x1 = 308\n",
    "\n",
    "s1 = 84\n",
    "\n",
    "Population 2: Energizer\n",
    "n2 = 100\n",
    "\n",
    "x2 = 254\n",
    "\n",
    "s2 = 67\n"
   ]
  },
  {
   "cell_type": "code",
   "execution_count": 5,
   "metadata": {},
   "outputs": [
    {
     "name": "stdout",
     "output_type": "stream",
     "text": [
      "z score is 5.025702668336442\n",
      "critical region is-1.9599639845400545 1.9599639845400545\n"
     ]
    }
   ],
   "source": [
    "from scipy.stats import norm\n",
    "n1 = 100\n",
    "x1 = 308\n",
    "s1 = 84\n",
    "n2 = 100\n",
    "x2 = 254\n",
    "s2 = 67\n",
    "s_1 = s1**2\n",
    "s_2 = s2**2\n",
    "alpha = 0.05\n",
    "SE = ((s_1/n1)+(s_2/n2))**0.5\n",
    "z_score = (x1-x2)/SE\n",
    "print(f\"z score is {z_score}\")\n",
    "print(f\"critical region is{norm.ppf(alpha/2)} {-norm.ppf(alpha/2)}\")"
   ]
  },
  {
   "cell_type": "markdown",
   "metadata": {},
   "source": [
    "We reject null hypothesis since it lies within critical region at alpha=5%.So, number of people preferring Duracell battery is different from the number of people preferring Energizer battery"
   ]
  },
  {
   "cell_type": "markdown",
   "metadata": {},
   "source": [
    "# Problem Statement 13\n",
    "\n",
    "Pooled estimate of the population variance\n",
    "Does the data provide sufficient evidence to conclude that average percentage\n",
    "increase in the price of sugar differs when it is sold at two different prices?\n",
    "\n",
    "Population 1: Price of sugar = Rs. 27.50 \n",
    "\n",
    "n1 = 14\n",
    "\n",
    "x1 = 0.317%\n",
    "\n",
    "s1 = 0.12%\n",
    "\n",
    "Population 2: Price of sugar = Rs. 20.00 \n",
    "\n",
    "n2 = 9\n",
    "\n",
    "x2 = 0.21%\n",
    "\n",
    "s2 = 0.11%\n"
   ]
  },
  {
   "cell_type": "code",
   "execution_count": 9,
   "metadata": {},
   "outputs": [
    {
     "name": "stdout",
     "output_type": "stream",
     "text": [
      "tscore is 0.3931089218182991\n",
      "critical region is 1.7207429028118775\n"
     ]
    }
   ],
   "source": [
    "import scipy.stats as stats\n",
    "n1 = 14\n",
    "x1 = 0.317\n",
    "s1 = 0.12\n",
    "n2 = 9\n",
    "x2 = 0.21\n",
    "s2 = 0.11\n",
    "s_1 = s1**2\n",
    "s_2 = s2**2\n",
    "s = ((n1-1)*s_1)+((n2-1)*s_2)\n",
    "n = (n1+n2-2)\n",
    "SE = (s/n)**0.5\n",
    "n_1 = ((1/n1)+(1/n2))**0.5\n",
    "t_score = (x1-x2)/SE*n_1\n",
    "print(f\"tscore is {t_score}\")\n",
    "print(f\"critical region is {stats.t.ppf(1-0.05,df=n)}\")"
   ]
  },
  {
   "cell_type": "markdown",
   "metadata": {},
   "source": [
    "We accept null hypothesis at alpha=5%.So,average price do not increase"
   ]
  },
  {
   "cell_type": "markdown",
   "metadata": {},
   "source": [
    "# Problem Statement 14:\n",
    "    \n",
    "The manufacturers of compact disk players want to test whether a small price reduction is enough to increase sales of their \n",
    "\n",
    "product. Is there evidence that the small price reduction is enough to increase sales of compact disk players? \n",
    "\n",
    "Population 1: Before reduction n1 = 15 x1 = Rs. 6598 s1 = Rs. 844 Population 2: After reduction n2 = 12 x2 = RS. 6870 \n",
    "\n",
    "s2 = Rs. 669"
   ]
  },
  {
   "cell_type": "code",
   "execution_count": 10,
   "metadata": {},
   "outputs": [
    {
     "name": "stdout",
     "output_type": "stream",
     "text": [
      "t score is -0.1364745051598569\n",
      "critical region is 1.7081407612518986\n"
     ]
    }
   ],
   "source": [
    "n1 = 15\n",
    "x1 = 6598\n",
    "s1 = 844\n",
    "\n",
    "n2 = 12\n",
    "x2 = 6870\n",
    "s2 = 669\n",
    "\n",
    "s_1 = s1**2\n",
    "s_2 = s2**2\n",
    "s = ((n1-1)*s_1)+((n2-1)*s_2)\n",
    "n = (n1+n2-2)\n",
    "SE = (s/n)**0.5\n",
    "n_1 = ((1/n1)+(1/n2))**0.5\n",
    "t_score = (x1-x2)/SE*n_1\n",
    "print(f\"t score is {t_score}\")\n",
    "print(f\"critical region is {stats.t.ppf(1-0.05,df = n)}\")"
   ]
  },
  {
   "cell_type": "markdown",
   "metadata": {},
   "source": [
    "we accept null hypothesis at alpha = 5% so average price remains same\n"
   ]
  },
  {
   "cell_type": "markdown",
   "metadata": {},
   "source": [
    "# Problem statement 15\n",
    "\n",
    "Comparisons of two population proportions when the hypothesized difference is zero\n",
    "Carry out a two-tailed test of the equality of banks’ share of the car loan market in\n",
    "1980 and 1995.\n",
    "\n",
    "Population 1: 1980\n",
    "    \n",
    "n1 = 1000\n",
    "\n",
    "x1 = 53\n",
    "\n",
    "p 1 = 0.53\n",
    "\n",
    "Population 2: 1985\n",
    "    \n",
    "n2 = 100\n",
    "\n",
    "x2 = 43\n",
    "\n",
    "p 2= 0.53"
   ]
  },
  {
   "cell_type": "code",
   "execution_count": 3,
   "metadata": {},
   "outputs": [
    {
     "name": "stdout",
     "output_type": "stream",
     "text": [
      "Z score is 0.0\n",
      "critical region is -1.6448536269514729\n"
     ]
    }
   ],
   "source": [
    "from scipy.stats import norm\n",
    "n1 = 1000\n",
    "x1 = 53\n",
    "p1 = 0.53\n",
    "\n",
    "n2 = 100\n",
    "x2 = 43\n",
    "p2 = 0.53\n",
    "\n",
    "p = (x1+x2)/(n1+n2)\n",
    "n = (1/n1)+(1/n2)\n",
    "p_1 = p*(1-p)\n",
    "Z = (p1-p2)/((p_1*n)**0.5)\n",
    "print(f\"Z score is {Z}\")\n",
    "print(f\"critical region is {norm.ppf(0.05)}\")\n",
    "\n"
   ]
  },
  {
   "cell_type": "markdown",
   "metadata": {},
   "source": [
    "we can't reject null hypothesis at alpha = 10%"
   ]
  },
  {
   "cell_type": "markdown",
   "metadata": {},
   "source": [
    "# Problem Statement 16:\n",
    "    \n",
    "Carry out a one-tailed test to determine whether the population proportion of\n",
    "traveler’s check buyers who buy at least $2500 in checks when sweepstakes prizes\n",
    "are offered as at least 10% higher than the proportion of such buyers when no\n",
    "sweepstakes are on.\n",
    "\n",
    "Population 1: With sweepstakes\n",
    "    \n",
    "n1 = 300\n",
    "\n",
    "x1 = 120\n",
    "\n",
    "p = 0.40\n",
    "\n",
    "Population 2: No sweepstakes n2 = 700\n",
    "    \n",
    "x2 = 140\n",
    "\n",
    "p 2= 0.20"
   ]
  },
  {
   "cell_type": "code",
   "execution_count": 5,
   "metadata": {},
   "outputs": [
    {
     "name": "stdout",
     "output_type": "stream",
     "text": [
      "Z_score is 3.303749523611152\n",
      "Critical region is 1.6448536269514729\n"
     ]
    }
   ],
   "source": [
    "n1 = 300 \n",
    "x1 = 120 \n",
    "𝑝1 = 0.40  \n",
    "n2 = 700 \n",
    "x2 = 140 \n",
    "𝑝2= 0.20\n",
    "p=(x1+x2)/(n1+n2)\n",
    "\n",
    "n=(1/n1)+(1/n2)\n",
    "p_1=p*(1-p)\n",
    "Z=(p1-p2-0.1)/((p_1*n)**0.5)\n",
    "print(f\"Z_score is {Z}\")\n",
    "print(f\"Critical region is {-norm.ppf(0.05)}\")"
   ]
  },
  {
   "cell_type": "markdown",
   "metadata": {},
   "source": [
    "we reject null hypothesis at alpha 5%"
   ]
  },
  {
   "cell_type": "markdown",
   "metadata": {},
   "source": [
    "# Problem Statement 17:\n",
    "    \n",
    "A die is thrown 132 times with the following results: Number turned up: 1, 2, 3, 4, 5, 6\n",
    "\n",
    "Frequency: 16, 20, 25, 14, 29, 28\n",
    "    \n",
    "Is the die unbiased? Consider the degrees of freedom as p − .\n"
   ]
  },
  {
   "cell_type": "markdown",
   "metadata": {},
   "source": [
    "(i) The null hypothesis H0 : The die is unbiased.\n",
    "\n",
    "Alternative hypothesis Ha : The die is biased.\n",
    "\n",
    "(ii) Calculation of test statistic : On the hypothesis, that the die is unbiased we should expect the frequency of each number to be = total/6 = 132/6=22\n",
    "    \n",
    "    "
   ]
  },
  {
   "cell_type": "code",
   "execution_count": 11,
   "metadata": {},
   "outputs": [
    {
     "name": "stdout",
     "output_type": "stream",
     "text": [
      "chi square value is 9.0 and p-value is 0.1090641579497725\n"
     ]
    }
   ],
   "source": [
    "import scipy.stats as stats\n",
    "f_obs = [16,20,25,14,29,28]\n",
    "f_exp = [22,22,22,22,22,22]\n",
    "result = stats.chisquare(f_obs,f_exp)\n",
    "print(f\"chi square value is {result[0]} and p-value is {result[1]}\")"
   ]
  },
  {
   "cell_type": "markdown",
   "metadata": {},
   "source": [
    "die is unbiased"
   ]
  },
  {
   "cell_type": "markdown",
   "metadata": {},
   "source": [
    "# Problem Statement 18:\n",
    "    \n",
    "In a certain town, there are about one million eligible voters. A simple random\n",
    "sample of 10,000 eligible voters was chosen to study the relationship between\n",
    "gender and participation in the last election. The results are summarized in the\n",
    "following 2X2 (read two by two) contingency table:\n",
    "\n",
    "               men   women\n",
    "        voted 2792   3591\n",
    "    non-voted 1486   2131\n",
    "    \n",
    "    \n",
    "We would want to check whether being a man or a woman (columns) is independent of\n",
    "having voted in the last election (rows). In other words, is “gender and voting independent”?"
   ]
  },
  {
   "cell_type": "code",
   "execution_count": 6,
   "metadata": {},
   "outputs": [
    {
     "name": "stdout",
     "output_type": "stream",
     "text": [
      "chi square value is 6.660455899328067\n",
      "Critical region with alpha=0.05 is 3.84\n",
      "We reject null hypothesis.It is not gender and voting independent\n"
     ]
    }
   ],
   "source": [
    "from scipy.stats import norm\n",
    "sample = 10000\n",
    "observed_voted_men = 2792\n",
    "observed_voted_women = 3591\n",
    "observed_non_voted_men = 1486\n",
    "observed_non_voted_women = 2131\n",
    "total_voted = 2792+3591\n",
    "total_non_voted = 1486+2131\n",
    "total_men = 2792+1486\n",
    "total_women = 3591+2131\n",
    "expected_voted_men = (total_voted*total_men)/10000\n",
    "expected_voted_women = (total_voted*total_women)/10000\n",
    "expected_non_voted_men = (total_non_voted*total_men)/10000\n",
    "expected_non_voted_women = (total_non_voted*total_women)/10000\n",
    "chisquare1 = (((observed_voted_women-expected_voted_women)**2)/expected_voted_women)\n",
    "chisquare2 = (((observed_voted_men-expected_voted_men)**2)/expected_voted_men)\n",
    "chisquare3 = (((observed_non_voted_women-expected_non_voted_women)**2)/expected_non_voted_women)\n",
    "chisquare4 = (((observed_non_voted_men-expected_non_voted_men)**2)/expected_non_voted_men)\n",
    "chisquare = chisquare1+chisquare2+chisquare3+chisquare4\n",
    "print(f'chi square value is {chisquare}')\n",
    "print(f\"Critical region with alpha=0.05 is 3.84\")\n",
    "print(\"We reject null hypothesis.It is not gender and voting independent\")\n"
   ]
  },
  {
   "cell_type": "markdown",
   "metadata": {},
   "source": [
    "# Problem Statement 19:\n",
    "    \n",
    "A sample of 100 voters are asked which of four candidates they would vote for in an\n",
    "election. The number supporting each candidate is given below:\n",
    "\n",
    "    \n",
    "Higgings     Reardon    White    Charlton\n",
    "   41           19        24        16\n",
    "    \n",
    "Do the data suggest that all candidates are equally popular? [Chi-Square = 14.96,\n",
    "with 3 df, p 0.05 ."
   ]
  },
  {
   "cell_type": "code",
   "execution_count": 4,
   "metadata": {},
   "outputs": [
    {
     "name": "stdout",
     "output_type": "stream",
     "text": [
      "chisquare value is 14.959999999999999\n",
      "critical region with df=3 and alpha = 0.05 is 7.82\n"
     ]
    }
   ],
   "source": [
    "import numpy as np\n",
    "from scipy.stats import stats\n",
    "obs =  [41,19,24,16]\n",
    "#print(np.mean(obs))\n",
    "exp = [25,25,25,25]\n",
    "result = stats.chisquare(obs,exp)\n",
    "print(f\"chisquare value is {result[0]}\")\n",
    "print(f\"critical region with df=3 and alpha = 0.05 is 7.82\")\n"
   ]
  },
  {
   "cell_type": "markdown",
   "metadata": {},
   "source": [
    "hence we reject null hypothesis ,all candidates are not equally popular"
   ]
  },
  {
   "cell_type": "markdown",
   "metadata": {},
   "source": [
    "# Problem Statement 20:\n",
    "    \n",
    "Children of three ages are asked to indicate their preference for three photographs of\n",
    "adults. Do the data suggest that there is a significant relationship between age and\n",
    "photograph preference? What is wrong with this study? [Chi-Square = 29.6, with 4\n",
    "df: p < 0.05].\n",
    "                photograph\n",
    "                \n",
    "\n",
    "Age \n",
    "\n",
    "     5-6years      18   22   20\n",
    "\n",
    "     7-8years      2     28   40\n",
    "     \n",
    "     9-10years    20     10    40\n",
    "     \n",
    "     \n",
    "     "
   ]
  },
  {
   "cell_type": "code",
   "execution_count": 2,
   "metadata": {},
   "outputs": [
    {
     "name": "stdout",
     "output_type": "stream",
     "text": [
      "Chi square value is 29.603174603174608\n",
      "Critical region with 4df and alpha = 0.001 is 18.47\n",
      "we reject null hypothesis .There is a significant relationship between age and photograph preference\n"
     ]
    }
   ],
   "source": [
    "from scipy.stats import chi2_contingency\n",
    "obs = [[18,22,20],[2,28,40],[20,10,40]]\n",
    "result = chi2_contingency(obs)\n",
    "print(f\"Chi square value is {result[0]}\")\n",
    "print(f\"Critical region with 4df and alpha = 0.001 is 18.47\")\n",
    "print(\"we reject null hypothesis .There is a significant relationship between age and photograph preference\")"
   ]
  },
  {
   "cell_type": "markdown",
   "metadata": {},
   "source": [
    "# Problem Statement 21\n",
    "\n",
    "A study of conformity using the Asch paradigm involved two conditions: one where\n",
    "one confederate supported the true judgement and another where no confederate\n",
    "gave the correct response.\n",
    "\n",
    "\n",
    "              support    no support\n",
    "              \n",
    "conform        18              40\n",
    "\n",
    "Not conform    32              10\n",
    "\n",
    "\n",
    "Is there a significant difference between the \"support\" and \"no support\" conditions in the\n",
    "frequency with which individuals are likely to conform? [Chi-Square = 19.87, with 1 df:\n",
    "p < 0.05].\n",
    "\n"
   ]
  },
  {
   "cell_type": "code",
   "execution_count": 5,
   "metadata": {},
   "outputs": [
    {
     "name": "stdout",
     "output_type": "stream",
     "text": [
      "Chisquare value is 18.10344827586207\n",
      "Critical region with 1df and alpha = 0.001 is 10.83\n"
     ]
    }
   ],
   "source": [
    "from scipy.stats import chi2_contingency\n",
    "obs = [[18,40],[32,10]]\n",
    "result = chi2_contingency(obs)\n",
    "print(f\"Chisquare value is {result[0]}\")\n",
    "print(f\"Critical region with 1df and alpha = 0.001 is 10.83\")"
   ]
  },
  {
   "cell_type": "markdown",
   "metadata": {},
   "source": [
    "we reject null hypothesis since there is a significant difference between support and no support conditions in the frequency with which individuals are likely to conform."
   ]
  },
  {
   "cell_type": "markdown",
   "metadata": {},
   "source": [
    "# Problem Statement 22\n",
    "\n",
    "We want to test whether short people differ with respect to their leadership qualities\n",
    "(Genghis Khan, Adolf Hitler and Napoleon were all stature-deprived, and how many midget\n",
    "MP's are there?) The following table shows the frequencies with which 43 short people and\n",
    "52 tall people were categorized as \"leaders\", \"followers\" or as \"unclassifiable\". Is there a\n",
    "relationship between height and leadership qualities?\n",
    " \n",
    "[Chi-Square = 10.71, with 2 df: p < 0.01].\n",
    "\n",
    "\n",
    "            height\n",
    "            \n",
    "          short    tall\n",
    "          \n",
    "leader     12        32\n",
    "\n",
    "follower   22        14\n",
    "\n",
    "unclassifiable  9     6\n"
   ]
  },
  {
   "cell_type": "code",
   "execution_count": 8,
   "metadata": {},
   "outputs": [
    {
     "name": "stdout",
     "output_type": "stream",
     "text": [
      "Chisquare value is 10.712198008709638\n",
      "Critical region with 2df and alpha = 0.001 is 13.8\n"
     ]
    }
   ],
   "source": [
    "from scipy.stats import chi2_contingency\n",
    "obs = [[12,32],[22,14],[9,6]]\n",
    "result = chi2_contingency(obs)\n",
    "print(f\"Chisquare value is {result[0]}\")\n",
    "print(f\"Critical region with 2df and alpha = 0.001 is 13.8\")\n",
    "\n"
   ]
  },
  {
   "cell_type": "markdown",
   "metadata": {},
   "source": [
    "we accept null hypothesis since there is no relationship between height and leadership qualities"
   ]
  },
  {
   "cell_type": "markdown",
   "metadata": {},
   "source": [
    "# Problem Statement 23:\n",
    "    \n",
    "Each respondent in the Current Population Survey of March 1993 was classified as employed, unemployed, or outside the labor force. The results for men in California age 35- 44 can be cross-tabulated by marital status, as follows\n",
    "\n",
    "        married    widowed,divorced/seperated     never married\n",
    "        \n",
    "       \n",
    "employed   679           103                         114\n",
    "\n",
    "umemployed  63            10                          20\n",
    "\n",
    "not in labor force  42      18                         25\n",
    "\n",
    "Men of different marital status seem to have different distributions of labor force status. Or is this just chance variation? \n",
    "\n",
    "(you may assume the table results from a simple random sample.)"
   ]
  },
  {
   "cell_type": "code",
   "execution_count": 11,
   "metadata": {},
   "outputs": [
    {
     "name": "stdout",
     "output_type": "stream",
     "text": [
      "Chi square value is 31.61310319407798\n",
      "Critical region with 4df and alpha = 0.001 is 18.47\n"
     ]
    }
   ],
   "source": [
    "from scipy.stats import chi2_contingency\n",
    "obs = [[679,103,114],[63,10,20],[42,18,25]]\n",
    "result = chi2_contingency(obs)\n",
    "print(f\"Chi square value is {result[0]}\")\n",
    "print(f\"Critical region with 4df and alpha = 0.001 is 18.47\")"
   ]
  },
  {
   "cell_type": "markdown",
   "metadata": {},
   "source": [
    "We reject null hypothesis at alpha=0.001 .there is relationship between martial status and employment status"
   ]
  },
  {
   "cell_type": "code",
   "execution_count": null,
   "metadata": {},
   "outputs": [],
   "source": []
  }
 ],
 "metadata": {
  "kernelspec": {
   "display_name": "Python 3",
   "language": "python",
   "name": "python3"
  },
  "language_info": {
   "codemirror_mode": {
    "name": "ipython",
    "version": 3
   },
   "file_extension": ".py",
   "mimetype": "text/x-python",
   "name": "python",
   "nbconvert_exporter": "python",
   "pygments_lexer": "ipython3",
   "version": "3.7.6"
  }
 },
 "nbformat": 4,
 "nbformat_minor": 4
}
